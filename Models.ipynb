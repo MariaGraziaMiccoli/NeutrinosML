{
 "cells": [
  {
   "cell_type": "markdown",
   "id": "fd3d02f6bd4cb0fa",
   "metadata": {},
   "source": [
    "# Passing Neutrino\n",
    "## Azimuth and Zenith prediction based on Neural Networks\n",
    "\n",
    "We create models for azimuth and zenith prediction (The details and results were described in the report)"
   ]
  },
  {
   "cell_type": "code",
   "execution_count": 1,
   "id": "initial_id",
   "metadata": {
    "ExecuteTime": {
     "end_time": "2024-06-13T09:44:29.068795Z",
     "start_time": "2024-06-13T09:43:39.643909Z"
    }
   },
   "outputs": [],
   "source": [
    "import  pandas as pd\n",
    "import numpy as np\n",
    "import matplotlib.pyplot as plt\n",
    "import pickle\n",
    "\n",
    "from sklearn.model_selection import train_test_split\n",
    "from sklearn.linear_model import SGDRegressor \n",
    "\n",
    "from tensorflow.keras import Sequential\n",
    "\n",
    "from keras import Model\n",
    "from keras.layers import Input, Conv1D, Dense, Masking,Concatenate,Dropout,LSTM\n",
    "from keras.activations import leaky_relu\n",
    "from keras.optimizers import Adamax\n",
    "from keras.mixed_precision import LossScaleOptimizer\n",
    "from keras.callbacks import EarlyStopping\n",
    "\n",
    "import warnings\n",
    "warnings.filterwarnings('ignore')\n"
   ]
  },
  {
   "cell_type": "markdown",
   "id": "1b5b335ed2d4a4ae",
   "metadata": {},
   "source": [
    "###### Loading datasets without split\n",
    "\n"
   ]
  },
  {
   "cell_type": "code",
   "execution_count": 2,
   "id": "e2d8e1baec5d795",
   "metadata": {
    "ExecuteTime": {
     "end_time": "2024-06-09T14:34:10.204322Z",
     "start_time": "2024-06-09T14:33:31.551956Z"
    }
   },
   "outputs": [],
   "source": [
    "time = pd.read_parquet('01_Datasets/Sensor-timeINPUT_Norm.parquet')\n",
    "charge = pd.read_parquet('01_Datasets/Sensor-chargeINPUT_Norm.parquet')\n",
    "target = pd.read_parquet('01_Datasets/Target_Norm.parquet')"
   ]
  },
  {
   "cell_type": "markdown",
   "id": "10428d48ac5af299",
   "metadata": {},
   "source": [
    "###### Split datasets in train set and test set"
   ]
  },
  {
   "cell_type": "code",
   "execution_count": 3,
   "id": "889d15d6335e0df8",
   "metadata": {
    "ExecuteTime": {
     "end_time": "2024-06-09T09:26:53.719262Z",
     "start_time": "2024-06-09T09:26:21.044809Z"
    }
   },
   "outputs": [],
   "source": [
    "#To limit the use of memory and since the y’s are the same for charge and time, then they only take one time from the split.\n",
    "X_trainTIME, X_testTIME, _ , _ = train_test_split(time,target, test_size=0.2) "
   ]
  },
  {
   "cell_type": "code",
   "execution_count": 4,
   "id": "884a94eef7b9989c",
   "metadata": {
    "ExecuteTime": {
     "end_time": "2024-06-09T09:27:38.503780Z",
     "start_time": "2024-06-09T09:27:04.157413Z"
    }
   },
   "outputs": [],
   "source": [
    "X_trainCHARGE, X_testCHARGE, y_train, y_test = train_test_split(charge,target, test_size=0.2)"
   ]
  },
  {
   "cell_type": "code",
   "execution_count": 5,
   "id": "7ee42fa02742610e",
   "metadata": {
    "ExecuteTime": {
     "end_time": "2024-06-09T09:29:32.874751Z",
     "start_time": "2024-06-09T09:27:57.600350Z"
    }
   },
   "outputs": [],
   "source": [
    "X_trainTIME.to_parquet('02_Split/XT_time.parquet')\n",
    "X_testTIME.to_parquet('02_Split/XTe_time.parquet')\n",
    "X_trainCHARGE.to_parquet('02_Split/XT_charge.parquet')\n",
    "X_testCHARGE.to_parquet('02_Split/XTe_charge.parquet')\n",
    "y_train.to_parquet('02_Split/y_train.parquet')\n",
    "y_test.to_parquet('02_Split/y_test.parquet')"
   ]
  },
  {
   "cell_type": "markdown",
   "id": "e4b59086db6397f2",
   "metadata": {},
   "source": [
    "###### Loading of the split dataset"
   ]
  },
  {
   "cell_type": "code",
   "execution_count": null,
   "id": "2df2ce6e3e87dfc5",
   "metadata": {},
   "outputs": [],
   "source": [
    "X_trainTIME = pd.read_parquet('02_Split/XT_time.parquet')\n",
    "X_trainCHARGE = pd.read_parquet('02_Split/XT_charge.parquet')\n",
    "y_train = pd.read_parquet('02_Split/y_train.parquet')"
   ]
  },
  {
   "cell_type": "code",
   "execution_count": null,
   "id": "332d0414b4ba6242",
   "metadata": {},
   "outputs": [],
   "source": [
    "X_testTIME = pd.read_parquet('02_Split/XTe_time.parquet')\n",
    "X_testCHARGE = pd.read_parquet('02_Split/XTe_charge.parquet')\n",
    "y_test = pd.read_parquet('02_Split/y_test.parquet')"
   ]
  },
  {
   "cell_type": "markdown",
   "id": "f7476017a39270f8",
   "metadata": {},
   "source": [
    "##### Definition of useful functions\n",
    "###### Function to calculate MEAN ANGULAR ERROR for the evaluation of models, proposal and taken by Kaggle"
   ]
  },
  {
   "cell_type": "code",
   "execution_count": null,
   "id": "40036e49bcf79854",
   "metadata": {},
   "outputs": [],
   "source": [
    "def angular_dist_score(y_train,y_predict):\n",
    "    '''\n",
    "    calculate the MAE of the angular distance between two directions.\n",
    "    The two vectors are first converted to cartesian unit vectors,\n",
    "    and then their scalar product is computed, which is equal to\n",
    "    the cosine of the angle between the two vectors. The inverse \n",
    "    cosine (arccos) thereof is then the angle between the two input vectors\n",
    "    \n",
    "    Parameters:\n",
    "    -----------\n",
    "    \n",
    "    az_true : float (or array thereof)\n",
    "        true azimuth value(s) in radian\n",
    "    zen_true : float (or array thereof)\n",
    "        true zenith value(s) in radian\n",
    "    az_pred : float (or array thereof)\n",
    "        predicted azimuth value(s) in radian\n",
    "    zen_pred : float (or array thereof)\n",
    "        predicted zenith value(s) in radian\n",
    "    \n",
    "    Returns:\n",
    "    --------\n",
    "    \n",
    "    dist : float\n",
    "        mean over the angular distance(s) in radian\n",
    "    '''\n",
    "    y_pre = pd.DataFrame(y_predict, columns=['azimuth', 'zenith'])\n",
    "    \n",
    "    az_true = y_train['azimuth'].to_numpy()\n",
    "    zen_true = y_train['zenith'].to_numpy()\n",
    "    az_pred = y_pre['azimuth'].to_numpy()\n",
    "    zen_pred = y_pre['zenith'].to_numpy()\n",
    "    \n",
    "    if not (np.all(np.isfinite(az_true)) and\n",
    "            np.all(np.isfinite(zen_true)) and\n",
    "            np.all(np.isfinite(az_pred)) and\n",
    "            np.all(np.isfinite(zen_pred))):\n",
    "        raise ValueError(\"All arguments must be finite\")\n",
    "    \n",
    "    # pre-compute all sine and cosine values\n",
    "    sa1 = np.sin(az_true)\n",
    "    ca1 = np.cos(az_true)\n",
    "    sz1 = np.sin(zen_true)\n",
    "    cz1 = np.cos(zen_true)\n",
    "\n",
    "    sa2 = np.sin(az_pred)\n",
    "    ca2 = np.cos(az_pred)\n",
    "    sz2 = np.sin(zen_pred)\n",
    "    cz2 = np.cos(zen_pred)\n",
    "    \n",
    "    \n",
    "    # scalar product of the two cartesian vectors (x = sz*ca, y = sz*sa, z = cz)\n",
    "    scalar_prod = sz1*sz2*(ca1*ca2 + sa1*sa2) + (cz1*cz2)\n",
    "    \n",
    "    # scalar product of two unit vectors is always between -1 and 1, this is against nummerical instability\n",
    "    # that might otherwise occure from the finite precision of the sine and cosine functions\n",
    "    scalar_prod =  np.clip(scalar_prod, -1, 1)\n",
    "    \n",
    "    # convert back to an angle (in radian)\n",
    "    return np.average(np.abs(np.arccos(scalar_prod)))"
   ]
  },
  {
   "cell_type": "markdown",
   "id": "35a43ed94e2320",
   "metadata": {},
   "source": [
    "###### Function for visualization of the graphs of trend of the fit of the models"
   ]
  },
  {
   "cell_type": "code",
   "execution_count": null,
   "id": "28cf559115b9257e",
   "metadata": {},
   "outputs": [],
   "source": [
    "def get_plot(historyOfFit):\n",
    "    plt.plot(historyOfFit.history['loss'], label='Train Loss')\n",
    "    plt.plot(historyOfFit.history['val_loss'], label='Validation Loss')\n",
    "    plt.xlabel('Epochs')\n",
    "    plt.ylabel('Loss')\n",
    "    plt.legend()\n",
    "    plt.show()"
   ]
  },
  {
   "cell_type": "markdown",
   "id": "7b3cdac2db22e9d",
   "metadata": {},
   "source": [
    "## Phase 1: Predict Azimuth And Zenith Using Only The Nanoseconds Of Activation"
   ]
  },
  {
   "cell_type": "markdown",
   "id": "d1a328c52888c7e7",
   "metadata": {},
   "source": [
    "#### SGD Regressor"
   ]
  },
  {
   "cell_type": "code",
   "execution_count": null,
   "id": "597c1401750ee963",
   "metadata": {
    "ExecuteTime": {
     "end_time": "2024-06-09T16:22:34.246555Z",
     "start_time": "2024-06-09T14:38:46.660860Z"
    },
    "scrolled": false
   },
   "outputs": [],
   "source": [
    "sgd_regressor1 = SGDRegressor(max_iter=1000, alpha=0.0001, learning_rate='optimal',verbose=2)\n",
    "azimuthSGD = sgd_regressor1.fit(X_trainTIME, y_train['azimuth']) \n",
    "\n",
    "sgd_regressor2 = SGDRegressor(max_iter=1000, alpha=0.0001, learning_rate='optimal',verbose=2)\n",
    "zenithSGD = sgd_regressor2.fit(X_trainTIME, y_train['zenith']) "
   ]
  },
  {
   "cell_type": "code",
   "execution_count": 12,
   "id": "c94def7784881201",
   "metadata": {
    "ExecuteTime": {
     "end_time": "2024-06-09T16:45:23.728730Z",
     "start_time": "2024-06-09T16:45:22.620494Z"
    }
   },
   "outputs": [
    {
     "data": {
      "text/html": [
       "<div>\n",
       "<style scoped>\n",
       "    .dataframe tbody tr th:only-of-type {\n",
       "        vertical-align: middle;\n",
       "    }\n",
       "\n",
       "    .dataframe tbody tr th {\n",
       "        vertical-align: top;\n",
       "    }\n",
       "\n",
       "    .dataframe thead th {\n",
       "        text-align: right;\n",
       "    }\n",
       "</style>\n",
       "<table border=\"1\" class=\"dataframe\">\n",
       "  <thead>\n",
       "    <tr style=\"text-align: right;\">\n",
       "      <th></th>\n",
       "      <th>azimuth</th>\n",
       "      <th>zenith</th>\n",
       "    </tr>\n",
       "  </thead>\n",
       "  <tbody>\n",
       "    <tr>\n",
       "      <th>0</th>\n",
       "      <td>-9.801129e+04</td>\n",
       "      <td>108248.031376</td>\n",
       "    </tr>\n",
       "    <tr>\n",
       "      <th>1</th>\n",
       "      <td>3.097471e+04</td>\n",
       "      <td>-151690.476437</td>\n",
       "    </tr>\n",
       "    <tr>\n",
       "      <th>2</th>\n",
       "      <td>6.228161e+05</td>\n",
       "      <td>-26726.663937</td>\n",
       "    </tr>\n",
       "    <tr>\n",
       "      <th>3</th>\n",
       "      <td>6.315575e+05</td>\n",
       "      <td>-154992.242062</td>\n",
       "    </tr>\n",
       "    <tr>\n",
       "      <th>4</th>\n",
       "      <td>5.305202e+05</td>\n",
       "      <td>-177607.335812</td>\n",
       "    </tr>\n",
       "    <tr>\n",
       "      <th>...</th>\n",
       "      <td>...</td>\n",
       "      <td>...</td>\n",
       "    </tr>\n",
       "    <tr>\n",
       "      <th>59995</th>\n",
       "      <td>1.969036e+05</td>\n",
       "      <td>-33217.316280</td>\n",
       "    </tr>\n",
       "    <tr>\n",
       "      <th>59996</th>\n",
       "      <td>-2.295743e+06</td>\n",
       "      <td>814781.851688</td>\n",
       "    </tr>\n",
       "    <tr>\n",
       "      <th>59997</th>\n",
       "      <td>-5.188696e+05</td>\n",
       "      <td>-326937.023312</td>\n",
       "    </tr>\n",
       "    <tr>\n",
       "      <th>59998</th>\n",
       "      <td>3.744976e+05</td>\n",
       "      <td>357541.914188</td>\n",
       "    </tr>\n",
       "    <tr>\n",
       "      <th>59999</th>\n",
       "      <td>-1.908825e+05</td>\n",
       "      <td>111549.351688</td>\n",
       "    </tr>\n",
       "  </tbody>\n",
       "</table>\n",
       "<p>60000 rows × 2 columns</p>\n",
       "</div>"
      ],
      "text/plain": [
       "            azimuth         zenith\n",
       "0     -9.801129e+04  108248.031376\n",
       "1      3.097471e+04 -151690.476437\n",
       "2      6.228161e+05  -26726.663937\n",
       "3      6.315575e+05 -154992.242062\n",
       "4      5.305202e+05 -177607.335812\n",
       "...             ...            ...\n",
       "59995  1.969036e+05  -33217.316280\n",
       "59996 -2.295743e+06  814781.851688\n",
       "59997 -5.188696e+05 -326937.023312\n",
       "59998  3.744976e+05  357541.914188\n",
       "59999 -1.908825e+05  111549.351688\n",
       "\n",
       "[60000 rows x 2 columns]"
      ]
     },
     "execution_count": 12,
     "metadata": {},
     "output_type": "execute_result"
    }
   ],
   "source": [
    "y_az = pd.DataFrame(azimuthSGD.predict(X_testTIME),columns=[\"azimuth\"])\n",
    "y_zen = pd.DataFrame(zenithSGD.predict(X_testTIME),columns=[\"zenith\"])\n",
    "\n",
    "y_predSGD = pd.concat([y_az, y_zen], axis=1)\n",
    "y_predSGD"
   ]
  },
  {
   "cell_type": "code",
   "execution_count": 14,
   "id": "a3ae063959a1a3b5",
   "metadata": {},
   "outputs": [
    {
     "data": {
      "text/plain": [
       "1.5705498294436486"
      ]
     },
     "execution_count": 14,
     "metadata": {},
     "output_type": "execute_result"
    }
   ],
   "source": [
    "angular_dist_score(y_test,y_predSGD)"
   ]
  },
  {
   "cell_type": "markdown",
   "id": "9e49cdbf7cb97498",
   "metadata": {},
   "source": [
    "Saving the weights of the model"
   ]
  },
  {
   "cell_type": "code",
   "execution_count": 16,
   "id": "29c568e97a1ae2b1",
   "metadata": {},
   "outputs": [],
   "source": [
    "with open('03_Weights/SGDRegressor_Azimuth.pkl','wb') as f:\n",
    "    pickle.dump(azimuthSGD,f)\n",
    "\n",
    "with open('03_Weights/SGDRegressor_Zenith.pkl','wb') as f:\n",
    "    pickle.dump(zenithSGD,f)"
   ]
  },
  {
   "cell_type": "markdown",
   "id": "2a951f77dcab8691",
   "metadata": {},
   "source": [
    "#### Neural Networks\n",
    "###### Dense Layer-Based Neural Network"
   ]
  },
  {
   "cell_type": "code",
   "execution_count": 5,
   "id": "cf1c72d5b3b7841e",
   "metadata": {
    "ExecuteTime": {
     "end_time": "2024-06-10T11:11:51.544648Z",
     "start_time": "2024-06-10T11:11:47.629723Z"
    }
   },
   "outputs": [
    {
     "name": "stdout",
     "output_type": "stream",
     "text": [
      "Model: \"sequential\"\n",
      "_________________________________________________________________\n",
      " Layer (type)                Output Shape              Param #   \n",
      "=================================================================\n",
      " masking (Masking)           (None, 5160)              0         \n",
      "                                                                 \n",
      " dense (Dense)               (None, 2024)              10445864  \n",
      "                                                                 \n",
      " dropout (Dropout)           (None, 2024)              0         \n",
      "                                                                 \n",
      " dense_1 (Dense)             (None, 1024)              2073600   \n",
      "                                                                 \n",
      " dropout_1 (Dropout)         (None, 1024)              0         \n",
      "                                                                 \n",
      " dense_2 (Dense)             (None, 512)               524800    \n",
      "                                                                 \n",
      " dropout_2 (Dropout)         (None, 512)               0         \n",
      "                                                                 \n",
      " dense_3 (Dense)             (None, 256)               131328    \n",
      "                                                                 \n",
      " dropout_3 (Dropout)         (None, 256)               0         \n",
      "                                                                 \n",
      " dense_4 (Dense)             (None, 128)               32896     \n",
      "                                                                 \n",
      " dropout_4 (Dropout)         (None, 128)               0         \n",
      "                                                                 \n",
      " dense_5 (Dense)             (None, 64)                8256      \n",
      "                                                                 \n",
      " dropout_5 (Dropout)         (None, 64)                0         \n",
      "                                                                 \n",
      " dense_6 (Dense)             (None, 32)                2080      \n",
      "                                                                 \n",
      " dropout_6 (Dropout)         (None, 32)                0         \n",
      "                                                                 \n",
      " dense_7 (Dense)             (None, 2)                 66        \n",
      "                                                                 \n",
      "=================================================================\n",
      "Total params: 13,218,890\n",
      "Trainable params: 13,218,890\n",
      "Non-trainable params: 0\n",
      "_________________________________________________________________\n"
     ]
    }
   ],
   "source": [
    "def denseModel_TIME():\n",
    "    model = Sequential()\n",
    "    \n",
    "    model.add(Masking(mask_value=0,input_shape=(5160,)))\n",
    "    model.add(Dense(units=2024, activation=leaky_relu,use_bias=True, dtype='float32'))\n",
    "    model.add(Dropout(0.3))\n",
    "    \n",
    "    model.add(Dense(units=1024, activation=leaky_relu,use_bias=True, dtype='float32'))\n",
    "    model.add(Dropout(0.3))\n",
    "    \n",
    "    model.add(Dense(units=512, activation=leaky_relu,use_bias=True, dtype='float32'))\n",
    "    model.add(Dropout(0.3))\n",
    "\n",
    "    model.add(Dense(units= 256, activation=leaky_relu, dtype='float32'))\n",
    "    model.add(Dropout(0.3))\n",
    "    \n",
    "    model.add(Dense(units = 128, activation=leaky_relu, dtype='float32'))\n",
    "    model.add(Dropout(0.2))\n",
    "\n",
    "    model.add(Dense(units=64, activation=leaky_relu, dtype='float32'))\n",
    "    model.add(Dropout(0.2))\n",
    "    \n",
    "    model.add(Dense(units=32, activation=leaky_relu, dtype='float32'))\n",
    "    model.add(Dropout(0.2))\n",
    "    \n",
    "    model.add(Dense(units=2,activation=leaky_relu,dtype='float32'))\n",
    "    \n",
    "    model.compile(optimizer=LossScaleOptimizer(Adamax(learning_rate=0.001)), loss= 'mean_squared_error')\n",
    "    \n",
    "    return model\n",
    "\n",
    "model = denseModel_TIME()\n",
    "model.summary()"
   ]
  },
  {
   "cell_type": "code",
   "execution_count": 6,
   "id": "8d242ccd2bb9eeb1",
   "metadata": {
    "ExecuteTime": {
     "end_time": "2024-06-10T12:05:42.275552Z",
     "start_time": "2024-06-10T11:11:51.546648Z"
    }
   },
   "outputs": [
    {
     "name": "stdout",
     "output_type": "stream",
     "text": [
      "Epoch 1/20\n",
      "12000/12000 [==============================] - 1084s 90ms/step - loss: 0.0680 - val_loss: 0.0659\n",
      "Epoch 2/20\n",
      "12000/12000 [==============================] - 1074s 89ms/step - loss: 0.0661 - val_loss: 0.0660\n",
      "Epoch 3/20\n",
      "12000/12000 [==============================] - 1037s 86ms/step - loss: 0.0659 - val_loss: 0.0660\n",
      "Epoch 3: early stopping\n"
     ]
    }
   ],
   "source": [
    "callback = EarlyStopping (monitor='val_loss',patience=2, verbose=1)\n",
    "history = model.fit(X_trainTIME,y_train,epochs=20,validation_split=0.2,batch_size=16,callbacks=callback)"
   ]
  },
  {
   "cell_type": "code",
   "execution_count": 7,
   "id": "31c3cfe6859f1f38",
   "metadata": {
    "ExecuteTime": {
     "end_time": "2024-06-10T12:06:09.187343Z",
     "start_time": "2024-06-10T12:06:08.891688Z"
    }
   },
   "outputs": [
    {
     "data": {
      "image/png": "[encoded data removed]",
      "text/plain": [
       "<Figure size 640x480 with 1 Axes>"
      ]
     },
     "metadata": {},
     "output_type": "display_data"
    }
   ],
   "source": [
    "get_plot(history)"
   ]
  },
  {
   "cell_type": "code",
   "execution_count": 8,
   "id": "308f290c56f84ea1",
   "metadata": {
    "ExecuteTime": {
     "end_time": "2024-06-10T12:06:18.180311Z",
     "start_time": "2024-06-10T12:06:18.013283Z"
    }
   },
   "outputs": [],
   "source": [
    "##Save the weight\n",
    "model.save_weights('03_Weights/denseModel_TIME.weights.h5', overwrite=True)"
   ]
  },
  {
   "cell_type": "code",
   "execution_count": 9,
   "id": "b508b95be03d9b46",
   "metadata": {
    "ExecuteTime": {
     "end_time": "2024-06-10T12:06:54.178548Z",
     "start_time": "2024-06-10T12:06:18.989002Z"
    }
   },
   "outputs": [
    {
     "name": "stdout",
     "output_type": "stream",
     "text": [
      "1875/1875 [==============================] - 28s 15ms/step\n"
     ]
    }
   ],
   "source": [
    "y_Pred_denseModel_TIME = model.predict(X_testTIME)"
   ]
  },
  {
   "cell_type": "code",
   "execution_count": 10,
   "id": "cbfbecdc806fa339",
   "metadata": {
    "ExecuteTime": {
     "end_time": "2024-06-10T12:06:57.488012Z",
     "start_time": "2024-06-10T12:06:57.453448Z"
    }
   },
   "outputs": [
    {
     "data": {
      "text/plain": [
       "0.2340966"
      ]
     },
     "execution_count": 10,
     "metadata": {},
     "output_type": "execute_result"
    }
   ],
   "source": [
    "angular_dist_score(y_test,y_Pred_denseModel_TIME)"
   ]
  },
  {
   "cell_type": "markdown",
   "id": "45ed93922655508c",
   "metadata": {},
   "source": [
    "######  LSTM Layer-Based Neural Network"
   ]
  },
  {
   "cell_type": "code",
   "execution_count": 21,
   "id": "84e1b04227bd6445",
   "metadata": {
    "ExecuteTime": {
     "end_time": "2024-06-10T12:15:41.578155Z",
     "start_time": "2024-06-10T12:15:41.564159Z"
    }
   },
   "outputs": [],
   "source": [
    "def lstm_model():\n",
    "    model = Sequential()\n",
    "    \n",
    "    model.add(Masking(mask_value=0,input_shape=(None,5160)))\n",
    "    model.add(Dense(units=2024, activation=leaky_relu,use_bias=True, dtype='float32'))\n",
    "    model.add(Dropout(0.3))\n",
    "    \n",
    "    model.add(LSTM(1024,dropout=0.3,activation=leaky_relu, return_sequences=True, dtype='float32'))\n",
    "   \n",
    "    model.add(Dense(units=512, activation=leaky_relu,use_bias=True, dtype='float32'))\n",
    "    model.add(Dropout(0.3))\n",
    "\n",
    "    model.add(LSTM(256,dropout=0.2,activation=leaky_relu,return_sequences=True, dtype='float32'))\n",
    "   \n",
    "    model.add(Dense(units = 128, activation=leaky_relu, dtype='float32'))\n",
    "    model.add(Dropout(0.2))\n",
    "\n",
    "    model.add(Dense(units=2,activation=leaky_relu,dtype='float32'))\n",
    "    \n",
    "    model.compile(optimizer=LossScaleOptimizer(Adamax(learning_rate=0.001)), loss= 'mean_squared_error')\n",
    "    \n",
    "    return model"
   ]
  },
  {
   "cell_type": "code",
   "execution_count": 22,
   "id": "2edb9fb8d6d5282f",
   "metadata": {
    "ExecuteTime": {
     "end_time": "2024-06-10T12:15:44.737882Z",
     "start_time": "2024-06-10T12:15:42.202064Z"
    }
   },
   "outputs": [
    {
     "name": "stdout",
     "output_type": "stream",
     "text": [
      "Model: \"sequential_3\"\n",
      "_________________________________________________________________\n",
      " Layer (type)                Output Shape              Param #   \n",
      "=================================================================\n",
      " masking_3 (Masking)         (None, None, 5160)        0         \n",
      "                                                                 \n",
      " dense_13 (Dense)            (None, None, 2024)        10445864  \n",
      "                                                                 \n",
      " dropout_11 (Dropout)        (None, None, 2024)        0         \n",
      "                                                                 \n",
      " lstm_2 (LSTM)               (None, None, 1024)        12488704  \n",
      "                                                                 \n",
      " dense_14 (Dense)            (None, None, 512)         524800    \n",
      "                                                                 \n",
      " dropout_12 (Dropout)        (None, None, 512)         0         \n",
      "                                                                 \n",
      " lstm_3 (LSTM)               (None, None, 256)         787456    \n",
      "                                                                 \n",
      " dense_15 (Dense)            (None, None, 128)         32896     \n",
      "                                                                 \n",
      " dropout_13 (Dropout)        (None, None, 128)         0         \n",
      "                                                                 \n",
      " dense_16 (Dense)            (None, None, 2)           258       \n",
      "                                                                 \n",
      "=================================================================\n",
      "Total params: 24,279,978\n",
      "Trainable params: 24,279,978\n",
      "Non-trainable params: 0\n",
      "_________________________________________________________________\n"
     ]
    }
   ],
   "source": [
    "model_lstm = lstm_model()\n",
    "model_lstm.summary()"
   ]
  },
  {
   "cell_type": "code",
   "execution_count": null,
   "id": "49bba1f6c3acb445",
   "metadata": {},
   "outputs": [],
   "source": [
    "X_trainTIME = X_trainTIME.to_numpy()\n",
    "X_trainTIME = X_trainTIME.reshape((X_trainTIME.shape[0], 1, X_trainTIME.shape[1]))"
   ]
  },
  {
   "cell_type": "code",
   "execution_count": 26,
   "id": "600e8a3cc529d2b7",
   "metadata": {
    "ExecuteTime": {
     "end_time": "2024-06-10T17:51:47.892342Z",
     "start_time": "2024-06-10T12:17:02.891519Z"
    }
   },
   "outputs": [
    {
     "name": "stdout",
     "output_type": "stream",
     "text": [
      "Epoch 1/20\n",
      "24000/24000 [==============================] - 4129s 172ms/step - loss: 0.0667 - val_loss: 0.0661\n",
      "Epoch 2/20\n",
      "24000/24000 [==============================] - 3968s 165ms/step - loss: 0.0661 - val_loss: 0.0660\n",
      "Epoch 3/20\n",
      "24000/24000 [==============================] - 3915s 163ms/step - loss: 0.0660 - val_loss: 0.0659\n",
      "Epoch 4/20\n",
      "24000/24000 [==============================] - 4048s 169ms/step - loss: 0.0660 - val_loss: 0.0660\n",
      "Epoch 5/20\n",
      "24000/24000 [==============================] - 3995s 166ms/step - loss: 0.0659 - val_loss: 0.0660\n",
      "Epoch 5: early stopping\n"
     ]
    }
   ],
   "source": [
    "history = model_lstm.fit(X_trainTIME,y_train,epochs=20,validation_split=0.2,batch_size=8, callbacks= EarlyStopping (monitor='val_loss',patience=2, verbose=1))"
   ]
  },
  {
   "cell_type": "code",
   "execution_count": 29,
   "id": "c60f9c0c62e85bb9",
   "metadata": {
    "ExecuteTime": {
     "end_time": "2024-06-10T18:03:40.825443Z",
     "start_time": "2024-06-10T18:03:40.664682Z"
    }
   },
   "outputs": [
    {
     "data": {
      "image/png": "[encoded data removed]",
      "text/plain": [
       "<Figure size 640x480 with 1 Axes>"
      ]
     },
     "metadata": {},
     "output_type": "display_data"
    }
   ],
   "source": [
    "get_plot(history)"
   ]
  },
  {
   "cell_type": "markdown",
   "id": "225dfbc3b30443bb",
   "metadata": {},
   "source": [
    "The model learns well until the third epoch, then begins not to generalize more well and to overfitting."
   ]
  },
  {
   "cell_type": "code",
   "execution_count": 32,
   "id": "1b3de7236737dfb7",
   "metadata": {
    "ExecuteTime": {
     "end_time": "2024-06-10T18:07:34.901089Z",
     "start_time": "2024-06-10T18:07:34.721968Z"
    }
   },
   "outputs": [],
   "source": [
    "#Save weights model\n",
    "model_lstm.save_weights('03_Weights/model_TimeLSTM.weights.h5', overwrite=True)"
   ]
  },
  {
   "cell_type": "code",
   "execution_count": 34,
   "id": "d945ff1d6dca4f22",
   "metadata": {
    "ExecuteTime": {
     "end_time": "2024-06-10T18:11:59.372713Z",
     "start_time": "2024-06-10T18:10:54.868549Z"
    }
   },
   "outputs": [
    {
     "name": "stdout",
     "output_type": "stream",
     "text": [
      "1875/1875 [==============================] - 60s 32ms/step\n"
     ]
    }
   ],
   "source": [
    "X_testTIME = X_testTIME.to_numpy()\n",
    "X_testTIME = X_testTIME.reshape((X_testTIME.shape[0], 1, X_testTIME.shape[1]))\n",
    "\n",
    "y_PREDlstm_model = model_lstm.predict(X_testTIME)"
   ]
  },
  {
   "cell_type": "code",
   "execution_count": 36,
   "id": "e8f997d5cfad8268",
   "metadata": {
    "ExecuteTime": {
     "end_time": "2024-06-10T18:14:55.643017Z",
     "start_time": "2024-06-10T18:14:55.615907Z"
    }
   },
   "outputs": [
    {
     "data": {
      "text/plain": [
       "0.23334724"
      ]
     },
     "execution_count": 36,
     "metadata": {},
     "output_type": "execute_result"
    }
   ],
   "source": [
    "y_PREDlstm_model = y_PREDlstm_model.reshape((y_PREDlstm_model.shape[0], y_PREDlstm_model.shape[2]))\n",
    "y_pre = pd.DataFrame(y_PREDlstm_model, columns=['azimuth', 'zenith'])\n",
    "\n",
    "angular_dist_score(y_test,y_PREDlstm_model)"
   ]
  },
  {
   "cell_type": "markdown",
   "id": "6076e36fa1314210",
   "metadata": {},
   "source": [
    "## Phase 2: Predicting Azimuth and Zenith Using The Nanoseconds Of Activation and Detected Charge"
   ]
  },
  {
   "cell_type": "markdown",
   "id": "582b5fe0d65b21a9",
   "metadata": {},
   "source": [
    "#### Neural Networks\n",
    "###### 1D Convolutional Layer-Based Neural Network "
   ]
  },
  {
   "cell_type": "code",
   "execution_count": 5,
   "id": "a778f7dff76cf86c",
   "metadata": {
    "ExecuteTime": {
     "end_time": "2024-06-11T08:17:04.141814Z",
     "start_time": "2024-06-11T08:17:04.057431Z"
    }
   },
   "outputs": [],
   "source": [
    "def conv_plus_lstm():\n",
    "    \n",
    "    input_times = Input(shape=(None,5160), name='input_times')\n",
    "    input_charges = Input(shape=(None,5160), name='input_charges')\n",
    "\n",
    "    masked_times = Masking(mask_value=0.0)(input_times)\n",
    "    masked_charges = Masking(mask_value=0.0)(input_charges)\n",
    "\n",
    "    conv_times_1 = Conv1D(filters=64, kernel_size=3, activation=leaky_relu, padding='same')(masked_times)\n",
    "    conv_times_2 = Conv1D(filters=128, kernel_size=3, activation=leaky_relu, padding='same')(conv_times_1)\n",
    "\n",
    "    conv_charges_1 = Conv1D(filters=64, kernel_size=3, activation=leaky_relu, padding='same')(masked_charges)\n",
    "    conv_charges_2 = Conv1D(filters=128, kernel_size=3, activation=leaky_relu, padding='same')(conv_charges_1)\n",
    "\n",
    "    concatenated = Concatenate()([conv_times_2, conv_charges_2])\n",
    "\n",
    "    lstm_1 = LSTM(128, return_sequences=True)(concatenated)\n",
    "    lstm_2 = LSTM(128)(lstm_1)\n",
    "\n",
    "    dense_1 = Dense(64, activation='relu')(lstm_2)\n",
    "    dropout = Dropout(0.5)(dense_1)\n",
    "    output_layer = Dense(2, name='output')(dropout) \n",
    "\n",
    "    model = Model(inputs=[input_times, input_charges], outputs=output_layer)\n",
    "\n",
    "    model.compile(optimizer=LossScaleOptimizer(Adamax(learning_rate=0.001)), loss= 'mean_squared_error')\n",
    "\n",
    "    return model"
   ]
  },
  {
   "cell_type": "code",
   "execution_count": 6,
   "id": "74acbc1a70a39105",
   "metadata": {
    "ExecuteTime": {
     "end_time": "2024-06-11T08:17:10.842319Z",
     "start_time": "2024-06-11T08:17:04.147870Z"
    }
   },
   "outputs": [
    {
     "name": "stdout",
     "output_type": "stream",
     "text": [
      "Model: \"model\"\n",
      "__________________________________________________________________________________________________\n",
      " Layer (type)                   Output Shape         Param #     Connected to                     \n",
      "==================================================================================================\n",
      " input_times (InputLayer)       [(None, None, 5160)  0           []                               \n",
      "                                ]                                                                 \n",
      "                                                                                                  \n",
      " input_charges (InputLayer)     [(None, None, 5160)  0           []                               \n",
      "                                ]                                                                 \n",
      "                                                                                                  \n",
      " masking (Masking)              (None, None, 5160)   0           ['input_times[0][0]']            \n",
      "                                                                                                  \n",
      " masking_1 (Masking)            (None, None, 5160)   0           ['input_charges[0][0]']          \n",
      "                                                                                                  \n",
      " conv1d (Conv1D)                (None, None, 64)     990784      ['masking[0][0]']                \n",
      "                                                                                                  \n",
      " conv1d_2 (Conv1D)              (None, None, 64)     990784      ['masking_1[0][0]']              \n",
      "                                                                                                  \n",
      " conv1d_1 (Conv1D)              (None, None, 128)    24704       ['conv1d[0][0]']                 \n",
      "                                                                                                  \n",
      " conv1d_3 (Conv1D)              (None, None, 128)    24704       ['conv1d_2[0][0]']               \n",
      "                                                                                                  \n",
      " concatenate (Concatenate)      (None, None, 256)    0           ['conv1d_1[0][0]',               \n",
      "                                                                  'conv1d_3[0][0]']               \n",
      "                                                                                                  \n",
      " lstm (LSTM)                    (None, None, 128)    197120      ['concatenate[0][0]']            \n",
      "                                                                                                  \n",
      " lstm_1 (LSTM)                  (None, 128)          131584      ['lstm[0][0]']                   \n",
      "                                                                                                  \n",
      " dense (Dense)                  (None, 64)           8256        ['lstm_1[0][0]']                 \n",
      "                                                                                                  \n",
      " dropout (Dropout)              (None, 64)           0           ['dense[0][0]']                  \n",
      "                                                                                                  \n",
      " output (Dense)                 (None, 2)            130         ['dropout[0][0]']                \n",
      "                                                                                                  \n",
      "==================================================================================================\n",
      "Total params: 2,368,066\n",
      "Trainable params: 2,368,066\n",
      "Non-trainable params: 0\n",
      "__________________________________________________________________________________________________\n"
     ]
    }
   ],
   "source": [
    "model_conv = conv_plus_lstm()\n",
    "model_conv.summary()"
   ]
  },
  {
   "cell_type": "code",
   "execution_count": 7,
   "id": "18597e8f05986c7",
   "metadata": {},
   "outputs": [],
   "source": [
    "X_trainTIME = X_trainTIME.to_numpy()\n",
    "X_trainTIME = X_trainTIME.reshape((X_trainTIME.shape[0], 1, X_trainTIME.shape[1]))\n",
    "\n",
    "X_trainCHARGE = X_trainCHARGE.to_numpy()\n",
    "X_trainCHARGE = X_trainCHARGE.reshape((X_trainCHARGE.shape[0], 1, X_trainCHARGE.shape[1]))"
   ]
  },
  {
   "cell_type": "code",
   "execution_count": 8,
   "id": "3c9c6dbdd631ac39",
   "metadata": {
    "ExecuteTime": {
     "end_time": "2024-06-11T09:02:25.689278Z",
     "start_time": "2024-06-11T08:17:10.855950Z"
    }
   },
   "outputs": [
    {
     "name": "stdout",
     "output_type": "stream",
     "text": [
      "Epoch 1/20\n",
      "24000/24000 [==============================] - 658s 27ms/step - loss: 0.0675 - val_loss: 0.0659\n",
      "Epoch 2/20\n",
      "24000/24000 [==============================] - 527s 22ms/step - loss: 0.0658 - val_loss: 0.0658\n",
      "Epoch 3/20\n",
      "24000/24000 [==============================] - 481s 20ms/step - loss: 0.0657 - val_loss: 0.0659\n",
      "Epoch 4/20\n",
      "24000/24000 [==============================] - 472s 20ms/step - loss: 0.0655 - val_loss: 0.0659\n",
      "Epoch 5/20\n",
      "24000/24000 [==============================] - 485s 20ms/step - loss: 0.0653 - val_loss: 0.0660\n",
      "Epoch 5: early stopping\n"
     ]
    }
   ],
   "source": [
    "callback = EarlyStopping (monitor='val_loss',patience=3, verbose=1)\n",
    "\n",
    "history = model_conv.fit([X_trainTIME, X_trainCHARGE], y_train, \n",
    "                        epochs=20,batch_size=8, \n",
    "                        validation_split=0.2,callbacks=callback)"
   ]
  },
  {
   "cell_type": "code",
   "execution_count": 9,
   "id": "799b4005df081946",
   "metadata": {
    "ExecuteTime": {
     "end_time": "2024-06-11T09:02:26.832032Z",
     "start_time": "2024-06-11T09:02:25.725301Z"
    }
   },
   "outputs": [
    {
     "data": {
      "image/png": "[encoded data removed]",
      "text/plain": [
       "<Figure size 640x480 with 1 Axes>"
      ]
     },
     "metadata": {},
     "output_type": "display_data"
    }
   ],
   "source": [
    "get_plot(history)"
   ]
  },
  {
   "cell_type": "markdown",
   "id": "9f3ee774ffac6d93",
   "metadata": {},
   "source": [
    "The model learns well until the first epoch, then begins not to generalize more well and to overfitting."
   ]
  },
  {
   "cell_type": "code",
   "execution_count": 10,
   "id": "2bb3d2f0432dc85b",
   "metadata": {},
   "outputs": [],
   "source": [
    "model_conv.save_weights('03_Weights/conv_plus_lstm.weights.h5', overwrite=True)"
   ]
  },
  {
   "cell_type": "code",
   "execution_count": 17,
   "id": "1ab2fccd7b841a10",
   "metadata": {
    "ExecuteTime": {
     "end_time": "2024-06-11T09:26:53.036303Z",
     "start_time": "2024-06-11T09:26:30.229688Z"
    }
   },
   "outputs": [
    {
     "name": "stdout",
     "output_type": "stream",
     "text": [
      "1875/1875 [==============================] - 13s 6ms/step\n"
     ]
    }
   ],
   "source": [
    "X_testTIME = X_testTIME.to_numpy()\n",
    "X_testTIME = X_testTIME.reshape((X_testTIME.shape[0], 1, X_testTIME.shape[1]))\n",
    "\n",
    "X_testCHARGE = X_testCHARGE.to_numpy()\n",
    "X_testCHARGE = X_testCHARGE.reshape((X_testCHARGE.shape[0], 1, X_testCHARGE.shape[1]))\n",
    "\n",
    "y_pred_conv_plus_lstm = model_conv.predict([X_testTIME, X_testCHARGE])"
   ]
  },
  {
   "cell_type": "code",
   "execution_count": 37,
   "id": "99afcc82c956e973",
   "metadata": {
    "ExecuteTime": {
     "end_time": "2024-06-11T10:37:43.869559Z",
     "start_time": "2024-06-11T10:37:43.844858Z"
    }
   },
   "outputs": [
    {
     "data": {
      "text/plain": [
       "0.23352784"
      ]
     },
     "execution_count": 37,
     "metadata": {},
     "output_type": "execute_result"
    }
   ],
   "source": [
    "y_pred_conv_plus_lstm = y_pred_conv_plus_lstm.reshape((y_pred_conv_plus_lstm.shape[0], y_pred_conv_plus_lstm.shape[1]))\n",
    "y_pre = pd.DataFrame(y_pred_conv_plus_lstm, columns=['azimuth', 'zenith'])\n",
    "\n",
    "angular_dist_score(y_test,y_pred_conv_plus_lstm)"
   ]
  },
  {
   "cell_type": "markdown",
   "id": "c726811ee3b995bf",
   "metadata": {},
   "source": [
    "###### 1D Convolutional Layer-Only Neural Network:"
   ]
  },
  {
   "cell_type": "code",
   "execution_count": 25,
   "id": "9bb2d2ce97726be2",
   "metadata": {
    "ExecuteTime": {
     "end_time": "2024-06-11T09:33:28.791841Z",
     "start_time": "2024-06-11T09:33:28.779415Z"
    }
   },
   "outputs": [],
   "source": [
    "def just_conv():\n",
    "    \n",
    "    input_times = Input(shape=(None,5160), name='input_times')\n",
    "    input_charges = Input(shape=(None,5160), name='input_charges')\n",
    "\n",
    "    masked_times = Masking(mask_value=0.0)(input_times)\n",
    "    masked_charges = Masking(mask_value=0.0)(input_charges)\n",
    "\n",
    "    conv_times_1 = Conv1D(filters=64, kernel_size=5, activation=leaky_relu, padding='same')(masked_times)\n",
    "    conv_times_2 = Conv1D(filters=128, kernel_size=5, activation=leaky_relu, padding='same')(conv_times_1)\n",
    "\n",
    "    conv_charges_1 = Conv1D(filters=64, kernel_size=5, activation=leaky_relu, padding='same')(masked_charges)\n",
    "    conv_charges_2 = Conv1D(filters=128, kernel_size=5, activation=leaky_relu, padding='same')(conv_charges_1)\n",
    "\n",
    "    concatenated = Concatenate()([conv_times_2, conv_charges_2])\n",
    "    \n",
    "    conv_charges_3 = Conv1D(filters=32, kernel_size=3, activation=leaky_relu, padding='same')(concatenated)\n",
    "    \n",
    "    output_layer = Dense(2, name='output')(conv_charges_3)  \n",
    "\n",
    "    model = Model(inputs=[input_times, input_charges], outputs=output_layer)\n",
    "\n",
    "    model.compile(optimizer=LossScaleOptimizer(Adamax(learning_rate=0.001)), loss= 'mean_squared_error')\n",
    "\n",
    "    return model"
   ]
  },
  {
   "cell_type": "code",
   "execution_count": 26,
   "id": "ddbb747dbf9e4a98",
   "metadata": {
    "ExecuteTime": {
     "end_time": "2024-06-11T09:33:29.879294Z",
     "start_time": "2024-06-11T09:33:29.685681Z"
    }
   },
   "outputs": [
    {
     "name": "stdout",
     "output_type": "stream",
     "text": [
      "Model: \"model_1\"\n",
      "__________________________________________________________________________________________________\n",
      " Layer (type)                   Output Shape         Param #     Connected to                     \n",
      "==================================================================================================\n",
      " input_times (InputLayer)       [(None, None, 5160)  0           []                               \n",
      "                                ]                                                                 \n",
      "                                                                                                  \n",
      " input_charges (InputLayer)     [(None, None, 5160)  0           []                               \n",
      "                                ]                                                                 \n",
      "                                                                                                  \n",
      " masking_2 (Masking)            (None, None, 5160)   0           ['input_times[0][0]']            \n",
      "                                                                                                  \n",
      " masking_3 (Masking)            (None, None, 5160)   0           ['input_charges[0][0]']          \n",
      "                                                                                                  \n",
      " conv1d_4 (Conv1D)              (None, None, 64)     1651264     ['masking_2[0][0]']              \n",
      "                                                                                                  \n",
      " conv1d_6 (Conv1D)              (None, None, 64)     1651264     ['masking_3[0][0]']              \n",
      "                                                                                                  \n",
      " conv1d_5 (Conv1D)              (None, None, 128)    41088       ['conv1d_4[0][0]']               \n",
      "                                                                                                  \n",
      " conv1d_7 (Conv1D)              (None, None, 128)    41088       ['conv1d_6[0][0]']               \n",
      "                                                                                                  \n",
      " concatenate_1 (Concatenate)    (None, None, 256)    0           ['conv1d_5[0][0]',               \n",
      "                                                                  'conv1d_7[0][0]']               \n",
      "                                                                                                  \n",
      " conv1d_8 (Conv1D)              (None, None, 32)     24608       ['concatenate_1[0][0]']          \n",
      "                                                                                                  \n",
      " output (Dense)                 (None, None, 2)      66          ['conv1d_8[0][0]']               \n",
      "                                                                                                  \n",
      "==================================================================================================\n",
      "Total params: 3,409,378\n",
      "Trainable params: 3,409,378\n",
      "Non-trainable params: 0\n",
      "__________________________________________________________________________________________________\n"
     ]
    }
   ],
   "source": [
    "model_justConv = just_conv()\n",
    "model_justConv.summary()"
   ]
  },
  {
   "cell_type": "code",
   "execution_count": 27,
   "id": "bce29e4dbc1f5284",
   "metadata": {
    "ExecuteTime": {
     "end_time": "2024-06-11T10:30:52.081683Z",
     "start_time": "2024-06-11T09:33:36.925101Z"
    }
   },
   "outputs": [
    {
     "name": "stdout",
     "output_type": "stream",
     "text": [
      "Epoch 1/20\n",
      "24000/24000 [==============================] - 702s 29ms/step - loss: 0.0664 - val_loss: 0.0660\n",
      "Epoch 2/20\n",
      "24000/24000 [==============================] - 658s 27ms/step - loss: 0.0660 - val_loss: 0.0660\n",
      "Epoch 3/20\n",
      "24000/24000 [==============================] - 646s 27ms/step - loss: 0.0659 - val_loss: 0.0660\n",
      "Epoch 4/20\n",
      "24000/24000 [==============================] - 717s 30ms/step - loss: 0.0659 - val_loss: 0.0660\n",
      "Epoch 5/20\n",
      "24000/24000 [==============================] - 658s 27ms/step - loss: 0.0659 - val_loss: 0.0661\n",
      "Epoch 5: early stopping\n"
     ]
    }
   ],
   "source": [
    "callback = EarlyStopping (monitor='val_loss',patience=3, verbose=1)\n",
    "\n",
    "history = model_justConv.fit([X_trainTIME, X_trainCHARGE], y_train, \n",
    "                        epochs=20,batch_size=8, \n",
    "                        validation_split=0.2,callbacks=callback)"
   ]
  },
  {
   "cell_type": "code",
   "execution_count": 28,
   "id": "1af2f4ce7943f8cf",
   "metadata": {
    "ExecuteTime": {
     "end_time": "2024-06-11T10:34:31.138844Z",
     "start_time": "2024-06-11T10:34:30.456280Z"
    }
   },
   "outputs": [
    {
     "data": {
      "image/png": "[encoded data removed]",
      "text/plain": [
       "<Figure size 640x480 with 1 Axes>"
      ]
     },
     "metadata": {},
     "output_type": "display_data"
    }
   ],
   "source": [
    "get_plot(history)"
   ]
  },
  {
   "cell_type": "markdown",
   "id": "be4305bf3be2ba79",
   "metadata": {},
   "source": [
    "The model learns well until the first epoch, then begins not to generalize more well and to overfitting."
   ]
  },
  {
   "cell_type": "code",
   "execution_count": 30,
   "id": "4f11d6f418fa6aff",
   "metadata": {
    "ExecuteTime": {
     "end_time": "2024-06-11T10:34:58.647157Z",
     "start_time": "2024-06-11T10:34:58.288066Z"
    }
   },
   "outputs": [],
   "source": [
    "model_justConv.save_weights('03_Weights/just_conv.weights.h5', overwrite=True)"
   ]
  },
  {
   "cell_type": "code",
   "execution_count": 40,
   "id": "58e4f4664d6a9789",
   "metadata": {
    "ExecuteTime": {
     "end_time": "2024-06-11T10:38:28.308548Z",
     "start_time": "2024-06-11T10:38:10.191732Z"
    }
   },
   "outputs": [
    {
     "name": "stdout",
     "output_type": "stream",
     "text": [
      "1875/1875 [==============================] - 9s 5ms/step\n"
     ]
    }
   ],
   "source": [
    "y_pred_just_conv = model_justConv.predict([X_testTIME, X_testCHARGE])"
   ]
  },
  {
   "cell_type": "code",
   "execution_count": 42,
   "id": "2602f82f479b049d",
   "metadata": {
    "ExecuteTime": {
     "end_time": "2024-06-11T10:38:35.210554Z",
     "start_time": "2024-06-11T10:38:35.197557Z"
    }
   },
   "outputs": [
    {
     "data": {
      "text/plain": [
       "0.23548542"
      ]
     },
     "execution_count": 42,
     "metadata": {},
     "output_type": "execute_result"
    }
   ],
   "source": [
    "y_pred_just_conv = y_pred_just_conv.reshape((y_pred_just_conv.shape[0],y_pred_just_conv.shape[2]))\n",
    "y_pre = pd.DataFrame(y_pred_just_conv, columns=['azimuth', 'zenith'])\n",
    "\n",
    "angular_dist_score(y_test,y_pred_just_conv)"
   ]
  },
  {
   "cell_type": "markdown",
   "id": "ba77022e68f708e7",
   "metadata": {},
   "source": [
    "###### LSTM-Only Neural Network:"
   ]
  },
  {
   "cell_type": "code",
   "execution_count": 4,
   "id": "56c720e6d40245d9",
   "metadata": {
    "ExecuteTime": {
     "end_time": "2024-06-12T08:19:26.691973Z",
     "start_time": "2024-06-12T08:19:26.286973Z"
    }
   },
   "outputs": [],
   "source": [
    "def deep_lstm_model():\n",
    "    input_times = Input(shape=(None, 5160), name='input_times')\n",
    "    input_charges = Input(shape=(None, 5160), name='input_charges')\n",
    "\n",
    "    masked_times = Masking(mask_value=0)(input_times)\n",
    "    dense_times_1 = Dense(units=2024, activation=leaky_relu, use_bias=True, dtype='float32')(masked_times)\n",
    "    dropout_times_1 = Dropout(0.3)(dense_times_1)\n",
    "    \n",
    "    lstm_times_1 = LSTM(1024, dropout=0.3, activation=leaky_relu, return_sequences=True, dtype='float32')(dropout_times_1)\n",
    "    dense_times_2 = Dense(units=512, activation= leaky_relu, use_bias=True, dtype='float32')(lstm_times_1)\n",
    "    dropout_times_2 = Dropout(0.3)(dense_times_2)\n",
    "    \n",
    "    lstm_times_2 = LSTM(256, dropout=0.2, activation=leaky_relu, return_sequences=True, dtype='float32')(dropout_times_2)\n",
    "    dense_times_3 = Dense(units=128, activation=leaky_relu, dtype='float32')(lstm_times_2)\n",
    "    dropout_times_3 = Dropout(0.2)(dense_times_3)\n",
    "    \n",
    "    outputTime = Dense(units=64, activation=leaky_relu, dtype='float32')(dropout_times_3)\n",
    "\n",
    "    masked_charge = Masking(mask_value=0)(input_charges)\n",
    "    dense_charges_1 = Dense(units=2024, activation=leaky_relu, use_bias=True, dtype='float32')(masked_charge)\n",
    "    dropout_charges_1 = Dropout(0.3)(dense_charges_1)\n",
    "    \n",
    "    lstm_charges_1 = LSTM(1024, dropout=0.3, activation=leaky_relu, return_sequences=True, dtype='float32')(dropout_charges_1)\n",
    "    dense_charges_2 = Dense(units=512, activation= leaky_relu, use_bias=True, dtype='float32')(lstm_charges_1)\n",
    "    dropout_charges_2 = Dropout(0.3)(dense_charges_2)\n",
    "    \n",
    "    lstm_charges_2 = LSTM(256, dropout=0.2, activation=leaky_relu, return_sequences=True, dtype='float32')(dropout_charges_2)\n",
    "    dense_charges_3 = Dense(units=128, activation=leaky_relu, dtype='float32')(lstm_charges_2)\n",
    "    dropout_charges_3 = Dropout(0.2)(dense_charges_3)\n",
    "    \n",
    "    outputCharge = Dense(units=64, activation=leaky_relu, dtype='float32')(dropout_charges_3)\n",
    "  \n",
    "    concatenated = Concatenate()([outputTime, outputCharge])\n",
    "\n",
    "    output_layer = Dense(units=2, activation=leaky_relu, dtype='float32')(concatenated)\n",
    "\n",
    "    model = Model(inputs=[input_times, input_charges], outputs=output_layer)\n",
    "\n",
    "    model.compile(optimizer=LossScaleOptimizer(Adamax(learning_rate=0.001)), loss='mean_squared_error')\n",
    "    \n",
    "    return model"
   ]
  },
  {
   "cell_type": "code",
   "execution_count": 5,
   "id": "d605f96fff76de6a",
   "metadata": {
    "ExecuteTime": {
     "end_time": "2024-06-12T08:19:38.089636Z",
     "start_time": "2024-06-12T08:19:26.757972Z"
    }
   },
   "outputs": [
    {
     "name": "stdout",
     "output_type": "stream",
     "text": [
      "Model: \"model\"\n",
      "__________________________________________________________________________________________________\n",
      " Layer (type)                   Output Shape         Param #     Connected to                     \n",
      "==================================================================================================\n",
      " input_times (InputLayer)       [(None, None, 5160)  0           []                               \n",
      "                                ]                                                                 \n",
      "                                                                                                  \n",
      " input_charges (InputLayer)     [(None, None, 5160)  0           []                               \n",
      "                                ]                                                                 \n",
      "                                                                                                  \n",
      " masking (Masking)              (None, None, 5160)   0           ['input_times[0][0]']            \n",
      "                                                                                                  \n",
      " masking_1 (Masking)            (None, None, 5160)   0           ['input_charges[0][0]']          \n",
      "                                                                                                  \n",
      " dense (Dense)                  (None, None, 2024)   10445864    ['masking[0][0]']                \n",
      "                                                                                                  \n",
      " dense_4 (Dense)                (None, None, 2024)   10445864    ['masking_1[0][0]']              \n",
      "                                                                                                  \n",
      " dropout (Dropout)              (None, None, 2024)   0           ['dense[0][0]']                  \n",
      "                                                                                                  \n",
      " dropout_3 (Dropout)            (None, None, 2024)   0           ['dense_4[0][0]']                \n",
      "                                                                                                  \n",
      " lstm (LSTM)                    (None, None, 1024)   12488704    ['dropout[0][0]']                \n",
      "                                                                                                  \n",
      " lstm_2 (LSTM)                  (None, None, 1024)   12488704    ['dropout_3[0][0]']              \n",
      "                                                                                                  \n",
      " dense_1 (Dense)                (None, None, 512)    524800      ['lstm[0][0]']                   \n",
      "                                                                                                  \n",
      " dense_5 (Dense)                (None, None, 512)    524800      ['lstm_2[0][0]']                 \n",
      "                                                                                                  \n",
      " dropout_1 (Dropout)            (None, None, 512)    0           ['dense_1[0][0]']                \n",
      "                                                                                                  \n",
      " dropout_4 (Dropout)            (None, None, 512)    0           ['dense_5[0][0]']                \n",
      "                                                                                                  \n",
      " lstm_1 (LSTM)                  (None, None, 256)    787456      ['dropout_1[0][0]']              \n",
      "                                                                                                  \n",
      " lstm_3 (LSTM)                  (None, None, 256)    787456      ['dropout_4[0][0]']              \n",
      "                                                                                                  \n",
      " dense_2 (Dense)                (None, None, 128)    32896       ['lstm_1[0][0]']                 \n",
      "                                                                                                  \n",
      " dense_6 (Dense)                (None, None, 128)    32896       ['lstm_3[0][0]']                 \n",
      "                                                                                                  \n",
      " dropout_2 (Dropout)            (None, None, 128)    0           ['dense_2[0][0]']                \n",
      "                                                                                                  \n",
      " dropout_5 (Dropout)            (None, None, 128)    0           ['dense_6[0][0]']                \n",
      "                                                                                                  \n",
      " dense_3 (Dense)                (None, None, 64)     8256        ['dropout_2[0][0]']              \n",
      "                                                                                                  \n",
      " dense_7 (Dense)                (None, None, 64)     8256        ['dropout_5[0][0]']              \n",
      "                                                                                                  \n",
      " concatenate (Concatenate)      (None, None, 128)    0           ['dense_3[0][0]',                \n",
      "                                                                  'dense_7[0][0]']                \n",
      "                                                                                                  \n",
      " dense_8 (Dense)                (None, None, 2)      258         ['concatenate[0][0]']            \n",
      "                                                                                                  \n",
      "==================================================================================================\n",
      "Total params: 48,576,210\n",
      "Trainable params: 48,576,210\n",
      "Non-trainable params: 0\n",
      "__________________________________________________________________________________________________\n"
     ]
    }
   ],
   "source": [
    "model_deep_lstm = deep_lstm_model()\n",
    "model_deep_lstm.summary()"
   ]
  },
  {
   "cell_type": "code",
   "execution_count": 6,
   "id": "9b7e642235b18190",
   "metadata": {},
   "outputs": [],
   "source": [
    "X_trainTIME = X_trainTIME.to_numpy()\n",
    "X_trainTIME = X_trainTIME.reshape((X_trainTIME.shape[0], 1, X_trainTIME.shape[1]))\n",
    "\n",
    "X_trainCHARGE = X_trainCHARGE.to_numpy()\n",
    "X_trainCHARGE = X_trainCHARGE.reshape((X_trainCHARGE.shape[0], 1, X_trainCHARGE.shape[1]))"
   ]
  },
  {
   "cell_type": "code",
   "execution_count": 7,
   "id": "975b3cb70f5ee620",
   "metadata": {
    "ExecuteTime": {
     "end_time": "2024-06-13T01:25:38.287299Z",
     "start_time": "2024-06-12T08:19:42.657529Z"
    }
   },
   "outputs": [
    {
     "name": "stdout",
     "output_type": "stream",
     "text": [
      "Epoch 1/15\n",
      "24000/24000 [==============================] - 7925s 330ms/step - loss: 0.0663 - val_loss: 0.0661\n",
      "Epoch 2/15\n",
      "24000/24000 [==============================] - 7554s 315ms/step - loss: 0.0660 - val_loss: 0.0660\n",
      "Epoch 3/15\n",
      "24000/24000 [==============================] - 7780s 324ms/step - loss: 0.0659 - val_loss: 0.0659\n",
      "Epoch 4/15\n",
      "24000/24000 [==============================] - 7832s 326ms/step - loss: 0.0659 - val_loss: 0.0659\n",
      "Epoch 5/15\n",
      "24000/24000 [==============================] - 7562s 315ms/step - loss: 0.0659 - val_loss: 0.0659\n",
      "Epoch 6/15\n",
      "24000/24000 [==============================] - 7655s 319ms/step - loss: 0.0659 - val_loss: 0.0661\n",
      "Epoch 7/15\n",
      "24000/24000 [==============================] - 7621s 318ms/step - loss: 0.0659 - val_loss: 0.0660\n",
      "Epoch 8/15\n",
      "24000/24000 [==============================] - 7567s 315ms/step - loss: 0.0659 - val_loss: 0.0661\n",
      "Epoch 8: early stopping\n"
     ]
    }
   ],
   "source": [
    "callback = EarlyStopping (monitor='val_loss',patience=3, verbose=1)\n",
    "\n",
    "history = model_deep_lstm.fit([X_trainTIME, X_trainCHARGE], y_train, \n",
    "                        epochs=15,batch_size=8, \n",
    "                        validation_split=0.2,callbacks=callback)"
   ]
  },
  {
   "cell_type": "code",
   "execution_count": 10,
   "id": "5eda60a6a2a6758e",
   "metadata": {
    "ExecuteTime": {
     "end_time": "2024-06-13T05:25:06.905794Z",
     "start_time": "2024-06-13T05:25:06.634795Z"
    }
   },
   "outputs": [],
   "source": [
    "model_deep_lstm.save_weights('03_Weights/deep_lstm_model.weights.h5', overwrite=True)"
   ]
  },
  {
   "cell_type": "code",
   "execution_count": 14,
   "id": "fc172c0f10b724fb",
   "metadata": {
    "ExecuteTime": {
     "end_time": "2024-06-13T05:27:36.099576Z",
     "start_time": "2024-06-13T05:27:35.720251Z"
    }
   },
   "outputs": [
    {
     "data": {
      "image/png": "[encoded data removed]",
      "text/plain": [
       "<Figure size 640x480 with 1 Axes>"
      ]
     },
     "metadata": {},
     "output_type": "display_data"
    }
   ],
   "source": [
    "get_plot(history)"
   ]
  },
  {
   "cell_type": "markdown",
   "id": "61ee5818018cde63",
   "metadata": {},
   "source": [
    "The model learns well until the four epoch, then begins not to generalize more well and to overfitting."
   ]
  },
  {
   "cell_type": "code",
   "execution_count": 15,
   "id": "c1a167b8375989b3",
   "metadata": {
    "ExecuteTime": {
     "end_time": "2024-06-13T05:31:27.554896Z",
     "start_time": "2024-06-13T05:29:23.046708Z"
    }
   },
   "outputs": [
    {
     "name": "stdout",
     "output_type": "stream",
     "text": [
      "1875/1875 [==============================] - 115s 61ms/step\n"
     ]
    }
   ],
   "source": [
    "X_testTIME = X_testTIME.to_numpy()\n",
    "X_testTIME = X_testTIME.reshape((X_testTIME.shape[0], 1, X_testTIME.shape[1]))\n",
    "\n",
    "X_testCHARGE = X_testCHARGE.to_numpy()\n",
    "X_testCHARGE = X_testCHARGE.reshape((X_testCHARGE.shape[0], 1, X_testCHARGE.shape[1]))\n",
    "\n",
    "y_pred_deep_lstm = model_deep_lstm.predict([X_testTIME, X_testCHARGE])"
   ]
  },
  {
   "cell_type": "code",
   "execution_count": 16,
   "id": "45daafdf2e1ab4e0",
   "metadata": {
    "ExecuteTime": {
     "end_time": "2024-06-13T05:33:21.482993Z",
     "start_time": "2024-06-13T05:33:21.439996Z"
    }
   },
   "outputs": [
    {
     "data": {
      "text/plain": [
       "0.23589146"
      ]
     },
     "execution_count": 16,
     "metadata": {},
     "output_type": "execute_result"
    }
   ],
   "source": [
    "y_pred_deep_lstm = y_pred_deep_lstm.reshape((y_pred_deep_lstm.shape[0],y_pred_deep_lstm.shape[2]))\n",
    "y_pre = pd.DataFrame(y_pred_deep_lstm, columns=['azimuth', 'zenith'])\n",
    "\n",
    "angular_dist_score(y_test,y_pred_deep_lstm)"
   ]
  }
 ],
 "metadata": {
  "kernelspec": {
   "display_name": "Python 3 (ipykernel)",
   "language": "python",
   "name": "python3"
  },
  "language_info": {
   "codemirror_mode": {
    "name": "ipython",
    "version": 3
   },
   "file_extension": ".py",
   "mimetype": "text/x-python",
   "name": "python",
   "nbconvert_exporter": "python",
   "pygments_lexer": "ipython3",
   "version": "3.10.9"
  }
 },
 "nbformat": 4,
 "nbformat_minor": 5
}
